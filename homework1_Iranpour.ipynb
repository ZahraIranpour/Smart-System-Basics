{
  "nbformat": 4,
  "nbformat_minor": 0,
  "metadata": {
    "colab": {
      "provenance": [],
      "authorship_tag": "ABX9TyO+N0oC+t3DbK1e4jt8ztax",
      "include_colab_link": true
    },
    "kernelspec": {
      "name": "python3",
      "display_name": "Python 3"
    },
    "language_info": {
      "name": "python"
    }
  },
  "cells": [
    {
      "cell_type": "markdown",
      "metadata": {
        "id": "view-in-github",
        "colab_type": "text"
      },
      "source": [
        "<a href=\"https://colab.research.google.com/github/ZahraIranpour/Smart-System-Basics/blob/main/homework1_Iranpour.ipynb\" target=\"_parent\"><img src=\"https://colab.research.google.com/assets/colab-badge.svg\" alt=\"Open In Colab\"/></a>"
      ]
    },
    {
      "cell_type": "markdown",
      "source": [
        "# Question 1: Write a Python program that asks the user for their age. If the age is greater than or equal to 18, print \"You are an adult.\" Otherwise, print \"You are a minor.\""
      ],
      "metadata": {
        "id": "rzSn_BheyShG"
      }
    },
    {
      "cell_type": "code",
      "source": [
        "age = input(\"Enter your age: \")\n",
        "age = int(age)\n",
        "\n",
        "if age < 18:\n",
        "    print(\"You are a minor.\")\n",
        "else:\n",
        "    print(\"You are an adult.\")"
      ],
      "metadata": {
        "colab": {
          "base_uri": "https://localhost:8080/"
        },
        "id": "QrZKWjx3MWGt",
        "outputId": "ba80f49b-b0a3-46c8-ecf4-03ec8c2e7702"
      },
      "execution_count": null,
      "outputs": [
        {
          "output_type": "stream",
          "name": "stdout",
          "text": [
            "Please enter your age: 19\n",
            "You are an adult.\n"
          ]
        }
      ]
    },
    {
      "cell_type": "markdown",
      "source": [
        "# Question 2: Write a Python program to print the numbers from 1 to 10 using a for loop."
      ],
      "metadata": {
        "id": "laCyi-OET6rA"
      }
    },
    {
      "cell_type": "code",
      "source": [
        "for i in range (1,11):\n",
        "  print (i)"
      ],
      "metadata": {
        "colab": {
          "base_uri": "https://localhost:8080/"
        },
        "id": "jYl0MwviT1X4",
        "outputId": "e7f57e43-4c13-4a17-a59c-169ad1ac870f"
      },
      "execution_count": null,
      "outputs": [
        {
          "output_type": "stream",
          "name": "stdout",
          "text": [
            "1\n",
            "2\n",
            "3\n",
            "4\n",
            "5\n",
            "6\n",
            "7\n",
            "8\n",
            "9\n",
            "10\n"
          ]
        }
      ]
    },
    {
      "cell_type": "markdown",
      "source": [
        "# Question 3: Write a Python program to calculate the sum of all even numbers from 1 to 20 using a while loop."
      ],
      "metadata": {
        "id": "AYuNflPYUTC7"
      }
    },
    {
      "cell_type": "code",
      "source": [
        "sum = 0\n",
        "i = 1\n",
        "\n",
        "while i in range (1,21):\n",
        "  if i % 2 == 0:\n",
        "    sum += i\n",
        "  i += 1\n",
        "\n",
        "print (\"Sum of even numbers from 1 to 20: \",sum)"
      ],
      "metadata": {
        "colab": {
          "base_uri": "https://localhost:8080/"
        },
        "id": "30Sh1a_KUWAr",
        "outputId": "099dc5ac-ea37-4918-b969-9d0ee2a040b5"
      },
      "execution_count": null,
      "outputs": [
        {
          "output_type": "stream",
          "name": "stdout",
          "text": [
            "Sum of even numbers from 1 to 20:  110\n"
          ]
        }
      ]
    },
    {
      "cell_type": "markdown",
      "source": [
        "# Question 4: Define a function called multiply that takes two parameters and returns their product."
      ],
      "metadata": {
        "id": "75e_lld5W8CO"
      }
    },
    {
      "cell_type": "code",
      "source": [
        "def multipy(a, b):\n",
        "  d = a * b\n",
        "  return d\n",
        "\n",
        "a = input(\"Enter the first number: \")\n",
        "b = input(\"Enter the second number: \")\n",
        "a = int(a)\n",
        "b = int(b)\n",
        "\n",
        "c = 0\n",
        "c = multipy(a,b)\n",
        "\n",
        "print(\"Product:\", c)"
      ],
      "metadata": {
        "colab": {
          "base_uri": "https://localhost:8080/"
        },
        "id": "ZAGy2H0JWgtk",
        "outputId": "412204c5-a0a1-45da-c05f-427517c0f283"
      },
      "execution_count": null,
      "outputs": [
        {
          "output_type": "stream",
          "name": "stdout",
          "text": [
            "Enter the first number: 6\n",
            "Enter the second number: 5\n",
            "Product: 30\n"
          ]
        }
      ]
    },
    {
      "cell_type": "markdown",
      "source": [
        "# Question 5: Create a class called Person with a constructor method that initializes the name and age attributes. Then, create an instance of the Person class and print the person's name and age."
      ],
      "metadata": {
        "id": "OfUmSDMxYo8x"
      }
    },
    {
      "cell_type": "code",
      "source": [
        "class Person:\n",
        "  def __init__(self, name, age):\n",
        "    self.name = name\n",
        "    self.age = age\n",
        "\n",
        "  def information(self):\n",
        "    print(f\"Name: {self.name}\")\n",
        "    print(f\"Age: {self.age}\")\n",
        "\n",
        "person1 = Person(\"Alice\", 25)\n",
        "person1.information()"
      ],
      "metadata": {
        "colab": {
          "base_uri": "https://localhost:8080/"
        },
        "id": "cqjOZh6HYpfy",
        "outputId": "ebb7bd3e-e0c3-4ce5-a731-9a2bf052f1b3"
      },
      "execution_count": null,
      "outputs": [
        {
          "output_type": "stream",
          "name": "stdout",
          "text": [
            "Name: Alice\n",
            "Age: 25\n"
          ]
        }
      ]
    },
    {
      "cell_type": "markdown",
      "source": [
        "# Question 6: Create a subclass called Student that inherits from the Person class. Add an additional attribute called student_id to the Student class. Create an instance of the Student class and print the student's name, age, and student ID."
      ],
      "metadata": {
        "id": "xvrECWjicLLL"
      }
    },
    {
      "cell_type": "code",
      "source": [
        "class Student(Person):\n",
        "    def __init__(self, name, age, student_id):\n",
        "        super().__init__(name, age)\n",
        "        self.student_id = student_id\n",
        "\n",
        "    def information2(self):\n",
        "      Person.information(self)\n",
        "      print(f\"Student ID: {self.student_id}\")\n",
        "\n",
        "student1 = Student(\"Bob\", 20, 12345)\n",
        "student1.information2()"
      ],
      "metadata": {
        "colab": {
          "base_uri": "https://localhost:8080/"
        },
        "id": "239xSGQgcMLP",
        "outputId": "79baf95d-3273-4ad6-a4c4-1b5f2ff8e60c"
      },
      "execution_count": null,
      "outputs": [
        {
          "output_type": "stream",
          "name": "stdout",
          "text": [
            "Name: Bob\n",
            "Age: 20\n",
            "Student ID: 12345\n"
          ]
        }
      ]
    },
    {
      "cell_type": "markdown",
      "source": [
        "# Question 7: Write a Python program that prompts the user to enter a number and then prints whether the number is prime or not. Create a function called is_prime that takes an integer as an argument and returns True if it's prime, and False otherwise."
      ],
      "metadata": {
        "id": "xWR9RDeYeCiP"
      }
    },
    {
      "cell_type": "code",
      "source": [
        "num = input(\"Enter a number: \")\n",
        "num = int(num)\n",
        "\n",
        "def is_prime(num):\n",
        "  if num <= 1:\n",
        "      return False\n",
        "\n",
        "  for i in range(2, int(num**0.5) + 1):\n",
        "      if num % i == 0:\n",
        "          return False\n",
        "\n",
        "  return True\n",
        "\n",
        "if is_prime(num):\n",
        "  print(f\"{num} is a prime number.\")\n",
        "else:\n",
        "    print(f\"{num} is not a prime number.\")"
      ],
      "metadata": {
        "colab": {
          "base_uri": "https://localhost:8080/"
        },
        "id": "bof6vha_eDGM",
        "outputId": "938dab19-8618-4f06-e567-93761b4e5296"
      },
      "execution_count": null,
      "outputs": [
        {
          "output_type": "stream",
          "name": "stdout",
          "text": [
            "Enter a number: 13\n",
            "13 is a prime number.\n"
          ]
        }
      ]
    },
    {
      "cell_type": "markdown",
      "source": [
        "# Question 8: Write a Python program that calculates the factorial of a given number using a recursive function. Prompt the user for an integer input and print its factorial."
      ],
      "metadata": {
        "id": "KmBYEsmsyIue"
      }
    },
    {
      "cell_type": "code",
      "source": [
        "num = input(\"Enter an integer: \")\n",
        "num = int(num)\n",
        "\n",
        "def fac(num):\n",
        "  fact = 1\n",
        "  for i in range (1, num+1):\n",
        "    fact *= i\n",
        "  return fact\n",
        "\n",
        "print(\"Factorial of\", num, \"is\", fac(num))"
      ],
      "metadata": {
        "colab": {
          "base_uri": "https://localhost:8080/"
        },
        "id": "cYJIcO06yJdy",
        "outputId": "9708e570-b093-47c0-848a-ac98674b9f44"
      },
      "execution_count": null,
      "outputs": [
        {
          "output_type": "stream",
          "name": "stdout",
          "text": [
            "Enter an integer: 10\n",
            "Factorial of 10 is 3628800\n"
          ]
        }
      ]
    },
    {
      "cell_type": "markdown",
      "source": [
        "# Question 9: Create a class called Rectangle with attributes width and height. Add a method calculate_area that calculates and returns the area of the rectangle. Create an instance of the Rectangle class and print its area."
      ],
      "metadata": {
        "id": "CEm-qYr60Z4s"
      }
    },
    {
      "cell_type": "code",
      "source": [
        "class Rectangle:\n",
        "  def __init__(rec, width, height):\n",
        "    rec.width = width\n",
        "    rec.height = height\n",
        "\n",
        "  def calculate_area(rec):\n",
        "    area = rec.width * rec.height\n",
        "    return area\n",
        "\n",
        "rec1 = Rectangle(5, 8)\n",
        "print(\"Area of the rectangle: \", rec1.calculate_area())"
      ],
      "metadata": {
        "id": "EwxxLVq-0cCp",
        "colab": {
          "base_uri": "https://localhost:8080/"
        },
        "outputId": "f6e36fc6-6b7e-4045-9454-3c47967f4bc9"
      },
      "execution_count": 2,
      "outputs": [
        {
          "output_type": "stream",
          "name": "stdout",
          "text": [
            "Area of the rectangle:  40\n"
          ]
        }
      ]
    },
    {
      "cell_type": "markdown",
      "source": [
        "# Question 10: Create a subclass called Square that inherits from the Rectangle class. Add a method calculate_perimeter to the Square class that calculates and returns the perimeter of the square. Create an instance of the Square class and print its perimeter."
      ],
      "metadata": {
        "id": "gvOYM7vgR9yh"
      }
    },
    {
      "cell_type": "code",
      "source": [
        "class Square(Rectangle):\n",
        "  def __init__(rec, width, height):\n",
        "    super().__init__(width, height)\n",
        "\n",
        "  def calculate_perimeter(rec):\n",
        "    per = (rec.width + rec.height) * 2\n",
        "    return per\n",
        "\n",
        "sqr1 = Square(3, 5)\n",
        "print(\"Perimeter of the square: \", sqr1.calculate_perimeter())"
      ],
      "metadata": {
        "colab": {
          "base_uri": "https://localhost:8080/"
        },
        "id": "fI5PQ18nR_Fp",
        "outputId": "268b61fb-275b-4fb2-f73e-97db87893167"
      },
      "execution_count": 8,
      "outputs": [
        {
          "output_type": "stream",
          "name": "stdout",
          "text": [
            "Perimeter of the square:  16\n"
          ]
        }
      ]
    },
    {
      "cell_type": "markdown",
      "source": [
        "# Question 11: Create a base class called Animal with attributes name and species. Provide a constructor to initialize these attributes and a method called speak that prints a generic message like \"The animal makes a sound.\""
      ],
      "metadata": {
        "id": "lz_5F3hcWZ0n"
      }
    },
    {
      "cell_type": "code",
      "source": [
        "class Animal:\n",
        "  def __init__(ani, name, species):\n",
        "    ani.name = name\n",
        "    ani.species = species\n",
        "\n",
        "  def speak(ani):\n",
        "    print(\"The animal makes a sound.\")\n",
        "\n",
        "animal1 = Animal(\"daynight\", \"dog\")\n",
        "animal1.speak()"
      ],
      "metadata": {
        "colab": {
          "base_uri": "https://localhost:8080/"
        },
        "id": "lXAaEpUqWav9",
        "outputId": "348f16c9-6420-4ffa-c8ed-90480f5b95fb"
      },
      "execution_count": 9,
      "outputs": [
        {
          "output_type": "stream",
          "name": "stdout",
          "text": [
            "The animal makes a sound.\n"
          ]
        }
      ]
    },
    {
      "cell_type": "markdown",
      "source": [
        "# Question 12: Create a subclass called Dog that inherits from the Animal class. Add a constructor to initialize the name, species, and breed attributes specific to dogs. Override the speak method in the Dog class to print \"Woof!\""
      ],
      "metadata": {
        "id": "di7l8a3IYqwI"
      }
    },
    {
      "cell_type": "code",
      "source": [
        "class Dog(Animal):\n",
        "  def __init__(ani, name, breed):\n",
        "    super().__init__(name, species=\"Dog\")\n",
        "    Dog.breed =  breed\n",
        "\n",
        "  def speak(ani):\n",
        "    print(\"Woof!\")\n",
        "\n",
        "dog1 = Dog(\"daynight\", \"American\")\n",
        "dog1.speak()"
      ],
      "metadata": {
        "colab": {
          "base_uri": "https://localhost:8080/"
        },
        "id": "lrZjh4uMYsjM",
        "outputId": "8fd08937-ef2f-4571-f471-314abf2a34b2"
      },
      "execution_count": 12,
      "outputs": [
        {
          "output_type": "stream",
          "name": "stdout",
          "text": [
            "Woof!\n"
          ]
        }
      ]
    },
    {
      "cell_type": "markdown",
      "source": [
        "# Question 13: Create another subclass called Cat that inherits from the Animal class. Add a constructor to initialize the name, species, and color attributes specific to cats. Override the speak method in the Cat class to print \"Meow!\""
      ],
      "metadata": {
        "id": "dnMImQ-laC0Z"
      }
    },
    {
      "cell_type": "code",
      "source": [
        "class Cat(Animal):\n",
        "  def __init__(ani, name, color):\n",
        "    super().__init__(name, species=\"Cat\")\n",
        "    Cat.breed =  color\n",
        "\n",
        "  def speak(ani):\n",
        "    print(\"Meow!\")\n",
        "\n",
        "Cat1 = Cat(\"Fandogh\", \"brown\")\n",
        "Cat1.speak()"
      ],
      "metadata": {
        "colab": {
          "base_uri": "https://localhost:8080/"
        },
        "id": "dk9ozk1KaGEO",
        "outputId": "297af4bd-81f1-443a-b3f6-0e6079841219"
      },
      "execution_count": 14,
      "outputs": [
        {
          "output_type": "stream",
          "name": "stdout",
          "text": [
            "Meow!\n"
          ]
        }
      ]
    },
    {
      "cell_type": "markdown",
      "source": [
        "# Question 14: Create instances of both the Dog and Cat classes and call their speak methods to demonstrate polymorphism."
      ],
      "metadata": {
        "id": "jQHKoHkjakVH"
      }
    },
    {
      "cell_type": "code",
      "source": [
        "dog_instance = Dog(\"Buddy\", \"Golden Retriever\")\n",
        "cat_instance = Cat(\"Whiskers\", \"Calico\")\n",
        "\n",
        "# to specify the print function, we have to rewrite the speak functions in subclasses\n",
        "\n",
        "class Dog(Animal):\n",
        "  def __init__(ani, name, breed):\n",
        "    super().__init__(name, species=\"Dog\")\n",
        "    Dog.breed = breed\n",
        "\n",
        "  def speak(ani):\n",
        "    print(f\"{ani.name} the {ani.breed} says Woof!\")\n",
        "\n",
        "class Cat(Animal):\n",
        "  def __init__(ani, name, color):\n",
        "    super().__init__(name, species=\"Cat\")\n",
        "    Cat.color = color\n",
        "\n",
        "  def speak(ani):\n",
        "    print(f\"{ani.name} the {ani.color} cat says Meow!\")\n",
        "\n",
        "dog_instance.speak()\n",
        "cat_instance.speak()"
      ],
      "metadata": {
        "colab": {
          "base_uri": "https://localhost:8080/"
        },
        "id": "fOSWyJySamDw",
        "outputId": "dbd64811-91cc-429d-c001-a432b14866e5"
      },
      "execution_count": 19,
      "outputs": [
        {
          "output_type": "stream",
          "name": "stdout",
          "text": [
            "Buddy the Golden Retriever says Woof!\n",
            "Whiskers the Calico cat says Meow!\n"
          ]
        }
      ]
    }
  ]
}